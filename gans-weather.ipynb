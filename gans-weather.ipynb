{
 "cells": [
  {
   "cell_type": "code",
   "execution_count": 1,
   "metadata": {},
   "outputs": [],
   "source": [
    "import json\n",
    "import pandas as pd\n",
    "import sqlalchemy\n",
    "import requests\n",
    "from bs4 import BeautifulSoup\n"
   ]
  },
  {
   "cell_type": "code",
   "execution_count": 2,
   "metadata": {},
   "outputs": [],
   "source": [
    "# Get keys from my_secrets_key.py file\n",
    "from my_secrets_key import schema_name,host_name,user_name,db_password,port,weather_api_key,aerodatabox_api_key\n"
   ]
  },
  {
   "cell_type": "code",
   "execution_count": 3,
   "metadata": {},
   "outputs": [],
   "source": [
    "schema = schema_name\n",
    "host = host_name\n",
    "user = user_name\n",
    "password = db_password\n",
    "port = port\n",
    "con = f'mysql+pymysql://{user}:{password}@{host}:{port}/{schema}'"
   ]
  },
  {
   "cell_type": "code",
   "execution_count": 4,
   "metadata": {},
   "outputs": [],
   "source": [
    "# Function to extract city data from the soup object\n",
    "def get_city(cities_soup):\n",
    "  # Find the element with class 'infobox-label' and text 'Website'\n",
    "  city_elem = cities_soup.find(\"span\", {\"class\": \"mw-page-title-main\"})\n",
    "  if city_elem:\n",
    "    # If found, return the next sibling element with class 'infobox-data'\n",
    "    city_element = city_elem.get_text(strip=True)\n",
    "    return city_element\n",
    "  else:\n",
    "      # If not found, return None\n",
    "      return None\n",
    "\n",
    "# Function to extract country from the soup object\n",
    "def get_country(cities_soup):\n",
    "  country_elem = cities_soup.select(\"table.infobox td.infobox-data\")[0].get_text(strip=True)\n",
    "  if country_elem:\n",
    "    country_element = country_elem\n",
    "    return country_element\n",
    "  else:\n",
    "      # If not found, return None\n",
    "      return \"None\"\n",
    "    \n",
    "# Function to extract coordinates from the soup object\n",
    "def get_coordinates(cities_soup, coord_type):\n",
    "  coord_elem = cities_soup.select(\"span.\"+coord_type)[0].get_text(strip=True)\n",
    "  return coord_elem\n",
    "\n",
    "# Function to extract population from the soup object\n",
    "def get_population(cities_soup):\n",
    "    # Find the table header element containing the text 'Population'\n",
    "    population_elem = cities_soup.select_one('th.infobox-header:-soup-contains(\"Population\")') or cities_soup.select_one('th.infobox-label:-soup-contains(\"Population\")')\n",
    "    # If found, find the next sibling and extract the first numerical data\n",
    "    if population_elem:\n",
    "      population = population_elem.parent.find_next('td', class_='infobox-data').get_text(strip=True)\n",
    "      return population\n",
    "    else:\n",
    "      None\n",
    "\n",
    "def clean_data(df):\n",
    "    # Remove unnecessary characters from 'longitude' 'latitude' and 'population' columns\n",
    "    df['longitude'] = df['longitude'].str.replace('°', '.').str.replace('′', '').str.replace('″', '')\n",
    "    df['latitude'] = df['latitude'].str.replace('°', '.').str.replace('′', '').str.replace('″', '')\n",
    "    df['population'] = df['population'].str.replace(r'[\\[\\],]', '', regex=True)\n",
    "\n",
    "\n",
    " \n",
    "# Define a function to extract city information\n",
    "def extract_city_info(cityname):\n",
    "    # Send an HTTP GET request to the Wikipedia page\n",
    "    city_url = f'https://en.wikipedia.org/wiki/{cityname}'\n",
    "    response = requests.get(city_url)\n",
    "\n",
    "    # Check if the request was successful (status code 200)\n",
    "    if response.status_code == 200:\n",
    "        # Parse the HTML content of the page using BeautifulSoup\n",
    "        cities_soup = BeautifulSoup(response.text, \"html.parser\")\n",
    "\n",
    "        # Initialize variables to store information\n",
    "        country = None  # Since we are focusing on  cities\n",
    "        latitude = None\n",
    "        longitude = None\n",
    "        population = None\n",
    "        city    = None\n",
    "        \n",
    "        city = get_city(cities_soup)\n",
    "        country_name = get_country(cities_soup) \n",
    "        latitude = get_coordinates(cities_soup,\"latitude\") \n",
    "        longitude = get_coordinates(cities_soup,\"longitude\")\n",
    "        population = get_population(cities_soup)\n",
    "        city_data = {\n",
    "              \"city\": city,\n",
    "              \"country\": country_name,\n",
    "              \"latitude\": latitude,\n",
    "              \"longitude\": longitude,\n",
    "              \"population\": population\n",
    "       }\n",
    "        return city_data\n",
    "        \n",
    "    else:\n",
    "        print(f\"Failed to retrieve data for {cityname}\")\n",
    "\n",
    "\n",
    "def city_info(list_of_cities):\n",
    "    \n",
    "    city_data = [extract_city_info(city) for city in list_of_cities]\n",
    "    # Convert the list of dictionaries to a DataFrame\n",
    "    cities_df = pd.DataFrame(city_data)\n",
    "    # Clean the data\n",
    "    clean_data(cities_df)\n",
    "    # Return the DataFrame\n",
    "    return cities_df\n",
    "    \n",
    "\n",
    "# Iterate through the list of  cities and extract information for each\n",
    "list_of_cities = ['Berlin', 'Hamburg', 'Munich','Paris', 'London','Stuttgart','Tokyo','Trichy']\n",
    "cities_data_df = city_info(list_of_cities)\n",
    "\n"
   ]
  },
  {
   "cell_type": "markdown",
   "metadata": {},
   "source": [
    "Created Dataframe population and cities"
   ]
  },
  {
   "cell_type": "code",
   "execution_count": 5,
   "metadata": {},
   "outputs": [],
   "source": [
    "gans_cities_df = pd.DataFrame({\n",
    "    'city_name': cities_data_df['city'], \n",
    "    'country': cities_data_df['country']\n",
    "})\n",
    "\n",
    "gans_populations_df = pd.DataFrame({\n",
    "    'city_name': cities_data_df['city'], \n",
    "    'latitude': cities_data_df['latitude'],\n",
    "    'longitude': cities_data_df['longitude'],\n",
    "    'population': cities_data_df['population']\n",
    "})"
   ]
  },
  {
   "cell_type": "markdown",
   "metadata": {},
   "source": [
    "Stores city data into cities table"
   ]
  },
  {
   "cell_type": "code",
   "execution_count": 6,
   "metadata": {},
   "outputs": [
    {
     "data": {
      "text/plain": [
       "8"
      ]
     },
     "execution_count": 6,
     "metadata": {},
     "output_type": "execute_result"
    }
   ],
   "source": [
    "gans_cities_df.to_sql(name='cities', con=con, if_exists='append', index=False)\n"
   ]
  },
  {
   "cell_type": "code",
   "execution_count": 7,
   "metadata": {},
   "outputs": [
    {
     "data": {
      "text/html": [
       "<div>\n",
       "<style scoped>\n",
       "    .dataframe tbody tr th:only-of-type {\n",
       "        vertical-align: middle;\n",
       "    }\n",
       "\n",
       "    .dataframe tbody tr th {\n",
       "        vertical-align: top;\n",
       "    }\n",
       "\n",
       "    .dataframe thead th {\n",
       "        text-align: right;\n",
       "    }\n",
       "</style>\n",
       "<table border=\"1\" class=\"dataframe\">\n",
       "  <thead>\n",
       "    <tr style=\"text-align: right;\">\n",
       "      <th></th>\n",
       "      <th>city_id</th>\n",
       "      <th>city_name</th>\n",
       "    </tr>\n",
       "  </thead>\n",
       "  <tbody>\n",
       "    <tr>\n",
       "      <th>0</th>\n",
       "      <td>25</td>\n",
       "      <td>Berlin</td>\n",
       "    </tr>\n",
       "    <tr>\n",
       "      <th>1</th>\n",
       "      <td>26</td>\n",
       "      <td>Hamburg</td>\n",
       "    </tr>\n",
       "    <tr>\n",
       "      <th>2</th>\n",
       "      <td>27</td>\n",
       "      <td>Munich</td>\n",
       "    </tr>\n",
       "    <tr>\n",
       "      <th>3</th>\n",
       "      <td>28</td>\n",
       "      <td>Paris</td>\n",
       "    </tr>\n",
       "    <tr>\n",
       "      <th>4</th>\n",
       "      <td>29</td>\n",
       "      <td>London</td>\n",
       "    </tr>\n",
       "    <tr>\n",
       "      <th>5</th>\n",
       "      <td>30</td>\n",
       "      <td>Stuttgart</td>\n",
       "    </tr>\n",
       "    <tr>\n",
       "      <th>6</th>\n",
       "      <td>31</td>\n",
       "      <td>Tokyo</td>\n",
       "    </tr>\n",
       "    <tr>\n",
       "      <th>7</th>\n",
       "      <td>32</td>\n",
       "      <td>Tiruchirappalli</td>\n",
       "    </tr>\n",
       "  </tbody>\n",
       "</table>\n",
       "</div>"
      ],
      "text/plain": [
       "   city_id        city_name\n",
       "0       25           Berlin\n",
       "1       26          Hamburg\n",
       "2       27           Munich\n",
       "3       28            Paris\n",
       "4       29           London\n",
       "5       30        Stuttgart\n",
       "6       31            Tokyo\n",
       "7       32  Tiruchirappalli"
      ]
     },
     "execution_count": 7,
     "metadata": {},
     "output_type": "execute_result"
    }
   ],
   "source": [
    "\n",
    "cities_res = pd.read_sql_table(\"cities\", con=con,columns=['city_id','city_name'])\n",
    "cities_res"
   ]
  },
  {
   "cell_type": "code",
   "execution_count": 10,
   "metadata": {},
   "outputs": [
    {
     "data": {
      "text/html": [
       "<div>\n",
       "<style scoped>\n",
       "    .dataframe tbody tr th:only-of-type {\n",
       "        vertical-align: middle;\n",
       "    }\n",
       "\n",
       "    .dataframe tbody tr th {\n",
       "        vertical-align: top;\n",
       "    }\n",
       "\n",
       "    .dataframe thead th {\n",
       "        text-align: right;\n",
       "    }\n",
       "</style>\n",
       "<table border=\"1\" class=\"dataframe\">\n",
       "  <thead>\n",
       "    <tr style=\"text-align: right;\">\n",
       "      <th></th>\n",
       "      <th>latitude</th>\n",
       "      <th>longitude</th>\n",
       "      <th>population</th>\n",
       "      <th>city_id</th>\n",
       "    </tr>\n",
       "  </thead>\n",
       "  <tbody>\n",
       "    <tr>\n",
       "      <th>0</th>\n",
       "      <td>52.3112N</td>\n",
       "      <td>13.2418E</td>\n",
       "      <td>3850809</td>\n",
       "      <td>25</td>\n",
       "    </tr>\n",
       "    <tr>\n",
       "      <th>1</th>\n",
       "      <td>53.33N</td>\n",
       "      <td>10.00E</td>\n",
       "      <td>1945532</td>\n",
       "      <td>26</td>\n",
       "    </tr>\n",
       "    <tr>\n",
       "      <th>2</th>\n",
       "      <td>48.0815N</td>\n",
       "      <td>11.3430E</td>\n",
       "      <td>1512491</td>\n",
       "      <td>27</td>\n",
       "    </tr>\n",
       "    <tr>\n",
       "      <th>3</th>\n",
       "      <td>48.5124N</td>\n",
       "      <td>2.218E</td>\n",
       "      <td>2102650</td>\n",
       "      <td>28</td>\n",
       "    </tr>\n",
       "    <tr>\n",
       "      <th>4</th>\n",
       "      <td>51.3026N</td>\n",
       "      <td>0.739W</td>\n",
       "      <td>87998001</td>\n",
       "      <td>29</td>\n",
       "    </tr>\n",
       "    <tr>\n",
       "      <th>5</th>\n",
       "      <td>48.4639N</td>\n",
       "      <td>09.1048E</td>\n",
       "      <td>626275</td>\n",
       "      <td>30</td>\n",
       "    </tr>\n",
       "    <tr>\n",
       "      <th>6</th>\n",
       "      <td>35.4123N</td>\n",
       "      <td>139.4132E</td>\n",
       "      <td>14094034</td>\n",
       "      <td>31</td>\n",
       "    </tr>\n",
       "    <tr>\n",
       "      <th>7</th>\n",
       "      <td>10.4725N</td>\n",
       "      <td>78.4217E</td>\n",
       "      <td>9168571</td>\n",
       "      <td>32</td>\n",
       "    </tr>\n",
       "  </tbody>\n",
       "</table>\n",
       "</div>"
      ],
      "text/plain": [
       "   latitude  longitude population  city_id\n",
       "0  52.3112N   13.2418E    3850809       25\n",
       "1    53.33N     10.00E    1945532       26\n",
       "2  48.0815N   11.3430E    1512491       27\n",
       "3  48.5124N     2.218E    2102650       28\n",
       "4  51.3026N     0.739W   87998001       29\n",
       "5  48.4639N   09.1048E     626275       30\n",
       "6  35.4123N  139.4132E   14094034       31\n",
       "7  10.4725N   78.4217E    9168571       32"
      ]
     },
     "execution_count": 10,
     "metadata": {},
     "output_type": "execute_result"
    }
   ],
   "source": [
    "# Merge the two DataFrames using 'city_name' as the key\n",
    "gans_populations_data = gans_populations_df.merge(cities_res, on='city_name')\n",
    "# Drop the redundant 'city'  column if needed\n",
    "gans_populations_data = gans_populations_data.drop(columns=['city_name'])\n",
    "\n",
    "gans_populations_data"
   ]
  },
  {
   "cell_type": "code",
   "execution_count": 11,
   "metadata": {},
   "outputs": [
    {
     "data": {
      "text/plain": [
       "8"
      ]
     },
     "execution_count": 11,
     "metadata": {},
     "output_type": "execute_result"
    }
   ],
   "source": [
    "gans_populations_data.to_sql(name='populations', con=con, if_exists='append', index=False)\n"
   ]
  }
 ],
 "metadata": {
  "kernelspec": {
   "display_name": "base",
   "language": "python",
   "name": "python3"
  },
  "language_info": {
   "codemirror_mode": {
    "name": "ipython",
    "version": 3
   },
   "file_extension": ".py",
   "mimetype": "text/x-python",
   "name": "python",
   "nbconvert_exporter": "python",
   "pygments_lexer": "ipython3",
   "version": "3.11.4"
  },
  "orig_nbformat": 4
 },
 "nbformat": 4,
 "nbformat_minor": 2
}
